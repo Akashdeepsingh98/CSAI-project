{
 "cells": [
  {
   "cell_type": "code",
   "execution_count": 5,
   "metadata": {},
   "outputs": [],
   "source": [
    "from PIL import Image, ImageDraw\n",
    "import numpy as np"
   ]
  },
  {
   "cell_type": "code",
   "execution_count": 3,
   "metadata": {},
   "outputs": [],
   "source": [
    "w, h = 220, 190\n",
    "shape = [(40, 40), (w - 10, h - 10)]\n",
    "  \n",
    "# creating new Image object\n",
    "img = Image.new(\"RGB\", (w, h))\n",
    "  \n",
    "# create line image\n",
    "img1 = ImageDraw.Draw(img)  \n",
    "img1.line(shape, fill =\"white\", width = 0)\n",
    "img1.line([(50, 50), (w + 10, h + 10)], fill =\"white\", width = 0)\n",
    "#img.show()\n",
    "img.save('./data/img1.jpg')"
   ]
  },
  {
   "cell_type": "code",
   "execution_count": 21,
   "metadata": {},
   "outputs": [],
   "source": [
    "def generate_vertical_vernier(shape, imname, color=\"white\"):\n",
    "    w, h = shape\n",
    "    img = Image.new(\"RGB\", (w, h))\n",
    "    img1 = ImageDraw.Draw(img)\n",
    "\n",
    "    # line 1\n",
    "    line1w1 = np.random.randint(0, w)\n",
    "    line1w2 = line1w1\n",
    "    line1h1 = 0\n",
    "    line1h2 = h//2\n",
    "    #print(line1w, line1h)\n",
    "    img1.line([(line1w1, line1h1), (line1w2, line1h2)], fill=color, width=0)\n",
    "\n",
    "    # line 2\n",
    "    line2w1 = np.random.randint(int(line1w2 - 0.10*w), int(line1w2 + 0.10*w))\n",
    "    if line2w1<0:\n",
    "        line2w1 = 0\n",
    "    if line2w1>=w:\n",
    "        line2w1 = w - 1\n",
    "    line2w2 = line2w1\n",
    "    line2h1 = h//2\n",
    "    line2h2 = h\n",
    "    img1.line([(line2w1, line2h1), (line2w2, line2h2)], fill = color, width = 0)\n",
    "    img.save(imname)\n",
    "\n",
    "    if line1w1<line2w1:\n",
    "        return \"left\"\n",
    "    elif line1w1>line2w1:\n",
    "        return \"right\"\n",
    "    return \"same\""
   ]
  },
  {
   "cell_type": "code",
   "execution_count": 30,
   "metadata": {},
   "outputs": [],
   "source": [
    "def generate_horizontal_vernier(shape, imname, color=\"white\"):\n",
    "    w, h = shape\n",
    "    img = Image.new(\"RGB\", (w, h))\n",
    "    img1 = ImageDraw.Draw(img)\n",
    "\n",
    "    # line 1\n",
    "    line1w1 = 0\n",
    "    line1w2 = w//2\n",
    "    line1h1 = np.random.randint(0, h)\n",
    "    line1h2 = line1h1\n",
    "    img1.line([(line1w1, line1h1), (line1w2, line1h2)], fill=color, width=0)\n",
    "\n",
    "    # line 2\n",
    "    line2w1 = w//2\n",
    "    line2w2 = w\n",
    "    line2h1 = np.random.randint(int(line1h2 - 0.10*h), int(line1h2 + 0.10*h))\n",
    "    if line2h1<0:\n",
    "        line2h1 = 0\n",
    "    if line2h1>=h:\n",
    "        line2h1 = h - 1\n",
    "    line2h2 = line2h1\n",
    "    img1.line([(line2w1, line2h1), (line2w2, line2h2)], fill = color, width = 0)\n",
    "    img.save(imname)\n",
    "\n",
    "    if line1h1<line2h1:\n",
    "        return \"up\"\n",
    "    elif line1h1>line2h1:\n",
    "        return \"down\"\n",
    "    return \"same\""
   ]
  },
  {
   "cell_type": "code",
   "execution_count": 42,
   "metadata": {},
   "outputs": [],
   "source": [
    "def generate_random_verniers(shape, type, n=200):\n",
    "    f = open(\"labels.txt\", \"w\")\n",
    "    \n",
    "    if type=='vertical':\n",
    "        for i in range(n):\n",
    "            imname = \"./data/img\" + str(i) + \".jpg\"\n",
    "            label = generate_vertical_vernier(shape, imname)\n",
    "            f.write(label+\"\\n\")\n",
    "    \n",
    "    elif type == 'horizontal':\n",
    "        for i in range(n):\n",
    "            imname = \"./data/img\" + str(i) + \".jpg\"\n",
    "            label = generate_horizontal_vernier(shape, imname)\n",
    "            f.write(label+\"\\n\")\n",
    "    \n",
    "    else:\n",
    "        for i in range(n):\n",
    "            imname = \"./data/img\" + str(i) + \".jpg\"\n",
    "            if np.random.randint(0, 2) == 0:\n",
    "                label = generate_vertical_vernier(shape, imname)\n",
    "            else:\n",
    "                label = generate_horizontal_vernier(shape, imname)\n",
    "            f.write(label+\"\\n\")\n",
    "    \n",
    "    f.close()"
   ]
  },
  {
   "cell_type": "code",
   "execution_count": 43,
   "metadata": {},
   "outputs": [],
   "source": [
    "generate_random_verniers((220, 190), 'horizontal', 1000)"
   ]
  }
 ],
 "metadata": {
  "interpreter": {
   "hash": "6b455acd6cd26f14392497be1ecab7e3d94e21f2691118b6b5751e3290391606"
  },
  "kernelspec": {
   "display_name": "Python 3.9.12 ('csaienv')",
   "language": "python",
   "name": "python3"
  },
  "language_info": {
   "codemirror_mode": {
    "name": "ipython",
    "version": 3
   },
   "file_extension": ".py",
   "mimetype": "text/x-python",
   "name": "python",
   "nbconvert_exporter": "python",
   "pygments_lexer": "ipython3",
   "version": "3.9.12"
  },
  "orig_nbformat": 4
 },
 "nbformat": 4,
 "nbformat_minor": 2
}
